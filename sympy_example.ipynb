{
 "cells": [
  {
   "cell_type": "markdown",
   "id": "5da16436-46f3-4e04-9aa3-08100e031302",
   "metadata": {},
   "source": [
    "# Example Using Sympy\n",
    "\n",
    "We'll use the example from Lecture 9 calculating the Unit Normal Vector to demponstrate how to use the 'sympy', a python library. This library allows symbolic manipulation of expressions. It is similar to how Mathematica works (the software and language behind Wolfram|Alpha). While these software tools are very powerful, they're also expensive. Python, is free.\n",
    "\n",
    "### Import Libraries\n",
    "\n",
    "We first import any libraries we may need"
   ]
  },
  {
   "cell_type": "code",
   "execution_count": 42,
   "id": "677685a9-cb78-4f9f-94af-e5aecb4edf6f",
   "metadata": {},
   "outputs": [],
   "source": [
    "from sympy import *\n",
    "init_printing()  #this prints things in a 'pretty' way with usual math notation"
   ]
  },
  {
   "cell_type": "markdown",
   "id": "00b87368-afea-4a29-93d9-c1fd76091a2a",
   "metadata": {},
   "source": [
    "### Define Function $r(t)$"
   ]
  },
  {
   "cell_type": "markdown",
   "id": "3f54ce89-38fa-4963-a814-81d8934510c4",
   "metadata": {},
   "source": [
    "First we need to declare some variables"
   ]
  },
  {
   "cell_type": "code",
   "execution_count": 20,
   "id": "d633920f-1da7-42a0-8345-d8837888ebc7",
   "metadata": {},
   "outputs": [],
   "source": [
    "x, y, z, t = symbols('x y z t', positive = True, real = True)"
   ]
  },
  {
   "cell_type": "markdown",
   "id": "ab4ae198-b563-4e8e-8393-a57459ec3ca6",
   "metadata": {},
   "source": [
    "Next we define our vector-value function $r(t)$"
   ]
  },
  {
   "cell_type": "code",
   "execution_count": 21,
   "id": "31dba3e6-f102-4cb3-987b-df78b5a780a4",
   "metadata": {},
   "outputs": [],
   "source": [
    "r = Matrix([[3*t, (2*t**2)]])"
   ]
  },
  {
   "cell_type": "markdown",
   "id": "1db2d270-0f8b-42ae-8bfe-327d389472f6",
   "metadata": {},
   "source": [
    "### Find Unit Tangent Vector $T(t)$\n",
    "Recall that the Unit Tangent Vector is given by $$T(t) = \\frac{r'(t)}{\\| r'(t) \\|}$$\n",
    "so we first need to find $r'(t)$"
   ]
  },
  {
   "cell_type": "code",
   "execution_count": 22,
   "id": "23f587fa-67fe-4290-ad23-7ef50ccfd1d4",
   "metadata": {},
   "outputs": [
    {
     "data": {
      "image/png": "[encoded data removed]",
      "text/latex": [
       "$\\displaystyle \\left[\\begin{matrix}3 & 4 t\\end{matrix}\\right]$"
      ],
      "text/plain": [
       "[3  4⋅t]"
      ]
     },
     "execution_count": 22,
     "metadata": {},
     "output_type": "execute_result"
    }
   ],
   "source": [
    "r_prime = diff(r,t)\n",
    "r_prime"
   ]
  },
  {
   "cell_type": "markdown",
   "id": "2d064280-ac2c-4a25-8835-721dc722b0ca",
   "metadata": {},
   "source": [
    "Next we find $\\| r'(t) \\| $"
   ]
  },
  {
   "cell_type": "code",
   "execution_count": 23,
   "id": "1e76f87b-e8ba-4562-8c5e-f87e64529e4c",
   "metadata": {},
   "outputs": [
    {
     "data": {
      "image/png": "[encoded data removed]",
      "text/latex": [
       "$\\displaystyle \\sqrt{16 t^{2} + 9}$"
      ],
      "text/plain": [
       "   ___________\n",
       "  ╱     2     \n",
       "╲╱  16⋅t  + 9 "
      ]
     },
     "execution_count": 23,
     "metadata": {},
     "output_type": "execute_result"
    }
   ],
   "source": [
    "r_prime_mag = sqrt(r_prime.dot(r_prime))\n",
    "r_prime_mag"
   ]
  },
  {
   "cell_type": "markdown",
   "id": "6ee58a94-f549-4050-b893-591921a9d3a8",
   "metadata": {},
   "source": [
    "Now we combine these pieces to define our function $T(t)$"
   ]
  },
  {
   "cell_type": "code",
   "execution_count": 24,
   "id": "bfcab06f-b1c5-45d8-8e34-a136fc6d6790",
   "metadata": {},
   "outputs": [
    {
     "data": {
      "image/png": "[encoded data removed]",
      "text/latex": [
       "$\\displaystyle \\left[\\begin{matrix}\\frac{3}{\\sqrt{16 t^{2} + 9}} & \\frac{4 t}{\\sqrt{16 t^{2} + 9}}\\end{matrix}\\right]$"
      ],
      "text/plain": [
       "⎡      3              4⋅t      ⎤\n",
       "⎢──────────────  ──────────────⎥\n",
       "⎢   ___________     ___________⎥\n",
       "⎢  ╱     2         ╱     2     ⎥\n",
       "⎣╲╱  16⋅t  + 9   ╲╱  16⋅t  + 9 ⎦"
      ]
     },
     "execution_count": 24,
     "metadata": {},
     "output_type": "execute_result"
    }
   ],
   "source": [
    "T = r_prime/r_prime_mag\n",
    "T"
   ]
  },
  {
   "cell_type": "markdown",
   "id": "8559d138-4344-4587-a312-b51363a9f223",
   "metadata": {},
   "source": [
    "### Find Unit Normal Vector $N(t)$\n",
    "\n",
    "Recall that the Unit Normal Vector is given by $$ N(t) = \\frac{T'(t)}{\\| T'(t) \\|}$$"
   ]
  },
  {
   "cell_type": "code",
   "execution_count": 25,
   "id": "1e4ab054-29c7-4616-bd90-054a69553ea0",
   "metadata": {
    "scrolled": true
   },
   "outputs": [
    {
     "data": {
      "image/png": "[encoded data removed]",
      "text/latex": [
       "$\\displaystyle \\left[\\begin{matrix}- \\frac{48 t}{\\left(16 t^{2} + 9\\right)^{\\frac{3}{2}}} & - \\frac{64 t^{2}}{\\left(16 t^{2} + 9\\right)^{\\frac{3}{2}}} + \\frac{4}{\\sqrt{16 t^{2} + 9}}\\end{matrix}\\right]$"
      ],
      "text/plain": [
       "⎡                          2                      ⎤\n",
       "⎢    -48⋅t             64⋅t               4       ⎥\n",
       "⎢──────────────  - ────────────── + ──────────────⎥\n",
       "⎢           3/2               3/2      ___________⎥\n",
       "⎢⎛    2    ⎞       ⎛    2    ⎞        ╱     2     ⎥\n",
       "⎣⎝16⋅t  + 9⎠       ⎝16⋅t  + 9⎠      ╲╱  16⋅t  + 9 ⎦"
      ]
     },
     "execution_count": 25,
     "metadata": {},
     "output_type": "execute_result"
    }
   ],
   "source": [
    "T_prime = diff(T, t)\n",
    "T_prime"
   ]
  },
  {
   "cell_type": "markdown",
   "id": "20494d13-1365-4b98-97c7-25e739d2c5c0",
   "metadata": {},
   "source": [
    "This looks a little complicated so we'll see if we can simplify it a bit"
   ]
  },
  {
   "cell_type": "code",
   "execution_count": 26,
   "id": "02ad5d14-d6c8-4f90-a90d-281f21bc5ab4",
   "metadata": {},
   "outputs": [
    {
     "data": {
      "image/png": "[encoded data removed]",
      "text/latex": [
       "$\\displaystyle \\left[\\begin{matrix}- \\frac{48 t}{\\left(16 t^{2} + 9\\right)^{\\frac{3}{2}}} & \\frac{36}{\\left(16 t^{2} + 9\\right)^{\\frac{3}{2}}}\\end{matrix}\\right]$"
      ],
      "text/plain": [
       "⎡    -48⋅t             36      ⎤\n",
       "⎢──────────────  ──────────────⎥\n",
       "⎢           3/2             3/2⎥\n",
       "⎢⎛    2    ⎞     ⎛    2    ⎞   ⎥\n",
       "⎣⎝16⋅t  + 9⎠     ⎝16⋅t  + 9⎠   ⎦"
      ]
     },
     "execution_count": 26,
     "metadata": {},
     "output_type": "execute_result"
    }
   ],
   "source": [
    "simplify(T_prime)"
   ]
  },
  {
   "cell_type": "code",
   "execution_count": 27,
   "id": "211f94ff-65b5-4bb9-ad35-7c13655985e6",
   "metadata": {},
   "outputs": [
    {
     "data": {
      "image/png": "[encoded data removed]",
      "text/latex": [
       "$\\displaystyle \\sqrt{\\frac{2304 t^{2}}{\\left(16 t^{2} + 9\\right)^{3}} + \\left(- \\frac{64 t^{2}}{\\left(16 t^{2} + 9\\right)^{\\frac{3}{2}}} + \\frac{4}{\\sqrt{16 t^{2} + 9}}\\right)^{2}}$"
      ],
      "text/plain": [
       "        _____________________________________________________\n",
       "       ╱                                                   2 \n",
       "      ╱          2      ⎛          2                      ⎞  \n",
       "     ╱     2304⋅t       ⎜      64⋅t               4       ⎟  \n",
       "    ╱    ──────────── + ⎜- ────────────── + ──────────────⎟  \n",
       "   ╱                3   ⎜             3/2      ___________⎟  \n",
       "  ╱      ⎛    2    ⎞    ⎜  ⎛    2    ⎞        ╱     2     ⎟  \n",
       "╲╱       ⎝16⋅t  + 9⎠    ⎝  ⎝16⋅t  + 9⎠      ╲╱  16⋅t  + 9 ⎠  "
      ]
     },
     "execution_count": 27,
     "metadata": {},
     "output_type": "execute_result"
    }
   ],
   "source": [
    "T_prime_mag = sqrt(T_prime.dot(T_prime))\n",
    "T_prime_mag"
   ]
  },
  {
   "cell_type": "markdown",
   "id": "d937383f-c6e7-4b5e-9a12-9ec68a3f7b68",
   "metadata": {},
   "source": [
    "This also looks a little complicated so we'll see if we can simplify it a bit."
   ]
  },
  {
   "cell_type": "code",
   "execution_count": 28,
   "id": "5e46e14c-6eb4-47c9-9969-e4dc7f0fc60a",
   "metadata": {},
   "outputs": [
    {
     "data": {
      "image/png": "[encoded data removed]",
      "text/latex": [
       "$\\displaystyle \\frac{12}{16 t^{2} + 9}$"
      ],
      "text/plain": [
       "    12   \n",
       "─────────\n",
       "    2    \n",
       "16⋅t  + 9"
      ]
     },
     "execution_count": 28,
     "metadata": {},
     "output_type": "execute_result"
    }
   ],
   "source": [
    "simplify(T_prime_mag)"
   ]
  },
  {
   "cell_type": "markdown",
   "id": "5c6a9d22-473b-4649-b216-eae9b1304e4c",
   "metadata": {},
   "source": [
    "Now we can construct our normal vector function $N(t)$"
   ]
  },
  {
   "cell_type": "code",
   "execution_count": 29,
   "id": "b3592e4e-56c3-4618-9444-00cb87787679",
   "metadata": {},
   "outputs": [
    {
     "data": {
      "image/png": "[encoded data removed]",
      "text/latex": [
       "$\\displaystyle \\left[\\begin{matrix}- \\frac{48 t}{\\left(16 t^{2} + 9\\right)^{\\frac{3}{2}} \\sqrt{\\frac{2304 t^{2}}{\\left(16 t^{2} + 9\\right)^{3}} + \\left(- \\frac{64 t^{2}}{\\left(16 t^{2} + 9\\right)^{\\frac{3}{2}}} + \\frac{4}{\\sqrt{16 t^{2} + 9}}\\right)^{2}}} & \\frac{- \\frac{64 t^{2}}{\\left(16 t^{2} + 9\\right)^{\\frac{3}{2}}} + \\frac{4}{\\sqrt{16 t^{2} + 9}}}{\\sqrt{\\frac{2304 t^{2}}{\\left(16 t^{2} + 9\\right)^{3}} + \\left(- \\frac{64 t^{2}}{\\left(16 t^{2} + 9\\right)^{\\frac{3}{2}}} + \\frac{4}{\\sqrt{16 t^{2} + 9}}\\right)^{2}}}\\end{matrix}\\right]$"
      ],
      "text/plain": [
       "⎡                                                                             \n",
       "⎢                                                                             \n",
       "⎢                                                                             \n",
       "⎢                                                                             \n",
       "⎢                                                                             \n",
       "⎢                                   -48⋅t                                     \n",
       "⎢──────────────────────────────────────────────────────────────────────────── \n",
       "⎢                       _____________________________________________________ \n",
       "⎢                      ╱                                                   2  \n",
       "⎢           3/2       ╱          2      ⎛          2                      ⎞   \n",
       "⎢⎛    2    ⎞         ╱     2304⋅t       ⎜      64⋅t               4       ⎟   \n",
       "⎢⎝16⋅t  + 9⎠   ⋅    ╱    ──────────── + ⎜- ────────────── + ──────────────⎟   \n",
       "⎢                  ╱                3   ⎜             3/2      ___________⎟   \n",
       "⎢                 ╱      ⎛    2    ⎞    ⎜  ⎛    2    ⎞        ╱     2     ⎟   \n",
       "⎣               ╲╱       ⎝16⋅t  + 9⎠    ⎝  ⎝16⋅t  + 9⎠      ╲╱  16⋅t  + 9 ⎠   \n",
       "\n",
       "                         2                                    ⎤\n",
       "                     64⋅t               4                     ⎥\n",
       "               - ────────────── + ──────────────              ⎥\n",
       "                            3/2      ___________              ⎥\n",
       "                 ⎛    2    ⎞        ╱     2                   ⎥\n",
       "                 ⎝16⋅t  + 9⎠      ╲╱  16⋅t  + 9               ⎥\n",
       " ─────────────────────────────────────────────────────────────⎥\n",
       "         _____________________________________________________⎥\n",
       "        ╱                                                   2 ⎥\n",
       "       ╱          2      ⎛          2                      ⎞  ⎥\n",
       "      ╱     2304⋅t       ⎜      64⋅t               4       ⎟  ⎥\n",
       "     ╱    ──────────── + ⎜- ────────────── + ──────────────⎟  ⎥\n",
       "    ╱                3   ⎜             3/2      ___________⎟  ⎥\n",
       "   ╱      ⎛    2    ⎞    ⎜  ⎛    2    ⎞        ╱     2     ⎟  ⎥\n",
       " ╲╱       ⎝16⋅t  + 9⎠    ⎝  ⎝16⋅t  + 9⎠      ╲╱  16⋅t  + 9 ⎠  ⎦"
      ]
     },
     "execution_count": 29,
     "metadata": {},
     "output_type": "execute_result"
    }
   ],
   "source": [
    "N = T_prime/T_prime_mag\n",
    "N"
   ]
  },
  {
   "cell_type": "markdown",
   "id": "f69cb13e-1341-448b-9960-1c26d81cd6e8",
   "metadata": {},
   "source": [
    "This also looks a little complicated so we'll see if we can simplify it a bit."
   ]
  },
  {
   "cell_type": "code",
   "execution_count": 37,
   "id": "466cd007-8317-4ece-a30d-4387b254a8d7",
   "metadata": {},
   "outputs": [
    {
     "data": {
      "image/png": "[encoded data removed]",
      "text/latex": [
       "$\\displaystyle \\left[\\begin{matrix}- \\frac{4 t}{\\sqrt{16 t^{2} + 9}} & \\frac{3}{\\sqrt{16 t^{2} + 9}}\\end{matrix}\\right]$"
      ],
      "text/plain": [
       "⎡    -4⋅t              3       ⎤\n",
       "⎢──────────────  ──────────────⎥\n",
       "⎢   ___________     ___________⎥\n",
       "⎢  ╱     2         ╱     2     ⎥\n",
       "⎣╲╱  16⋅t  + 9   ╲╱  16⋅t  + 9 ⎦"
      ]
     },
     "execution_count": 37,
     "metadata": {},
     "output_type": "execute_result"
    }
   ],
   "source": [
    "simplify(N)"
   ]
  },
  {
   "cell_type": "markdown",
   "id": "fe72314c-cb5c-4d6b-8653-b064af9f6980",
   "metadata": {},
   "source": [
    "So our Unit Normal Vector function is $$N(t) = \\displaystyle \\left[\\begin{matrix}- \\frac{4 t}{\\sqrt{16 t^{2} + 9}} & \\frac{3}{\\sqrt{16 t^{2} + 9}}\\end{matrix}\\right]$$"
   ]
  },
  {
   "cell_type": "markdown",
   "id": "bdf38231-5d1e-480c-82cd-6e0d17f5c945",
   "metadata": {},
   "source": [
    "Now to evaluate this function at a point $t=1$ we do the following"
   ]
  },
  {
   "cell_type": "code",
   "execution_count": 36,
   "id": "40d91ee6-9ea2-4175-a03f-0a6bf8185229",
   "metadata": {},
   "outputs": [
    {
     "data": {
      "image/png": "[encoded data removed]",
      "text/latex": [
       "$\\displaystyle \\left[\\begin{matrix}- \\frac{4}{5} & \\frac{3}{5}\\end{matrix}\\right]$"
      ],
      "text/plain": [
       "[-4/5  3/5]"
      ]
     },
     "execution_count": 36,
     "metadata": {},
     "output_type": "execute_result"
    }
   ],
   "source": [
    "N.subs(t, 1)"
   ]
  }
 ],
 "metadata": {
  "kernelspec": {
   "display_name": "Python 3 (ipykernel)",
   "language": "python",
   "name": "python3"
  },
  "language_info": {
   "codemirror_mode": {
    "name": "ipython",
    "version": 3
   },
   "file_extension": ".py",
   "mimetype": "text/x-python",
   "name": "python",
   "nbconvert_exporter": "python",
   "pygments_lexer": "ipython3",
   "version": "3.10.13"
  }
 },
 "nbformat": 4,
 "nbformat_minor": 5
}
