{
 "cells": [
  {
   "cell_type": "markdown",
   "id": "943b042c-d177-4d79-9dea-d2a7f5fecd8f",
   "metadata": {},
   "source": [
    "# Python Demo"
   ]
  },
  {
   "cell_type": "markdown",
   "id": "4cb1098b-d486-46b8-9af4-7ee351f0ec9d",
   "metadata": {},
   "source": [
    "This is a Jupyter notebook. These are files that let you write both text (markdown Cells) and code (code cells) in the same place. Jupyter notebooks are great for learning and testing out code you're writing. It's an easy way to document what and why you're doing whatever you're doing.\n",
    "\n",
    "There are variety of ways to format a markdown cell. If you want to know how format things in markdown, go to the menu _Help > Markdown Reference._\n",
    "\n",
    "_**Get in the habit of leaving notes to yourself as you work.** You will forget what you were doing._\n",
    "\n",
    "### Printing Output\n",
    "\n",
    "A nice feature of using notebooks is that you don't need to write print statements to get output, making it an easy environment to test code. This is different from when you're using script files - print statements need to be used to print any output to the screen. \n",
    "\n",
    "I've used this in my own practice where I've tested code in a notebook and then translated what I've written to a script file that can all at once.\n",
    "\n",
    "The last line in any code cell will be printed below the cell."
   ]
  },
  {
   "cell_type": "code",
   "execution_count": 19,
   "id": "ed962a2f-2bb1-47ec-a67e-123dbd6c1192",
   "metadata": {
    "tags": []
   },
   "outputs": [
    {
     "data": {
      "text/plain": [
       "7"
      ]
     },
     "execution_count": 19,
     "metadata": {},
     "output_type": "execute_result"
    }
   ],
   "source": [
    "3+4"
   ]
  },
  {
   "cell_type": "code",
   "execution_count": 20,
   "id": "c12b9b28-46ae-457b-b457-bafcc7e2dfd6",
   "metadata": {
    "tags": []
   },
   "outputs": [
    {
     "data": {
      "text/plain": [
       "4.0"
      ]
     },
     "execution_count": 20,
     "metadata": {},
     "output_type": "execute_result"
    }
   ],
   "source": [
    "3+4\n",
    "5*6\n",
    "8/2"
   ]
  },
  {
   "cell_type": "markdown",
   "id": "9c63e6c4-5d75-4820-bfee-28be29340389",
   "metadata": {},
   "source": [
    "If you want to see the value of a variable, you can just type it and run the cell."
   ]
  },
  {
   "cell_type": "code",
   "execution_count": 25,
   "id": "9f417070-96e9-42a5-9877-f9969ba1b383",
   "metadata": {
    "tags": []
   },
   "outputs": [
    {
     "data": {
      "text/plain": [
       "3"
      ]
     },
     "execution_count": 25,
     "metadata": {},
     "output_type": "execute_result"
    }
   ],
   "source": [
    "x = 3\n",
    "x"
   ]
  },
  {
   "cell_type": "markdown",
   "id": "0e7745fe-4277-405f-bf6c-af0d226dc1bd",
   "metadata": {},
   "source": [
    "### ABC - Always Be Commenting\n",
    "\n",
    "Two very important things to do when you're writing and testing code - Always leave yourself comments and don't delete things."
   ]
  },
  {
   "cell_type": "code",
   "execution_count": 26,
   "id": "2682efb6-7ea5-4d2f-bd1d-d93c97da9429",
   "metadata": {
    "tags": []
   },
   "outputs": [],
   "source": [
    "# this is a comment - anything written with # in front will not be run\n",
    "\n",
    "# z = 3 # testing one value here\n",
    "\n",
    "z = 3+4 # testing a second value here\n"
   ]
  },
  {
   "cell_type": "markdown",
   "id": "4f8ec380-7777-4e8b-9aa9-0bae7ed0535e",
   "metadata": {},
   "source": [
    "It's easy to comment out a few lines of code rather than delete them. You never know if you will need it again, or sometimes to see what didn't work. It's a way to track things you've already tested. Don't make more work for yourself by having to re-type things you already typed once!\n",
    "\n",
    "When you're done testing and writing final code, you can always go back and clean up a code file and delete what you know for sure you don't need."
   ]
  },
  {
   "cell_type": "markdown",
   "id": "0b0ae316-24a9-4b02-890c-3168654b3d0b",
   "metadata": {},
   "source": [
    "### Python as a Calculator\n",
    "\n",
    "Python can be used like a calculator - you'll want to use it for more than that but the basic math operations can be used without any additional libraries or functions."
   ]
  },
  {
   "cell_type": "code",
   "execution_count": 15,
   "id": "430508ec-3277-4ba2-ad3e-ba2f88a5f00f",
   "metadata": {
    "tags": []
   },
   "outputs": [
    {
     "data": {
      "text/plain": [
       "7"
      ]
     },
     "execution_count": 15,
     "metadata": {},
     "output_type": "execute_result"
    }
   ],
   "source": [
    "# Addition\n",
    "3+4"
   ]
  },
  {
   "cell_type": "code",
   "execution_count": 16,
   "id": "a987399e-764f-498d-8729-98f091666cd4",
   "metadata": {
    "tags": []
   },
   "outputs": [
    {
     "data": {
      "text/plain": [
       "30"
      ]
     },
     "execution_count": 16,
     "metadata": {},
     "output_type": "execute_result"
    }
   ],
   "source": [
    "# Multiplication\n",
    "5*6"
   ]
  },
  {
   "cell_type": "code",
   "execution_count": 17,
   "id": "56db8e4a-6fcd-49db-8a8c-49d8a5d4de8c",
   "metadata": {
    "tags": []
   },
   "outputs": [
    {
     "data": {
      "text/plain": [
       "25"
      ]
     },
     "execution_count": 17,
     "metadata": {},
     "output_type": "execute_result"
    }
   ],
   "source": [
    "# Exponent\n",
    "5**2"
   ]
  },
  {
   "cell_type": "code",
   "execution_count": 18,
   "id": "7f34b07d-7976-4a1b-9a90-2a772e395399",
   "metadata": {
    "tags": []
   },
   "outputs": [
    {
     "data": {
      "text/plain": [
       "3.6666666666666665"
      ]
     },
     "execution_count": 18,
     "metadata": {},
     "output_type": "execute_result"
    }
   ],
   "source": [
    "# Division\n",
    "\n",
    "11/3"
   ]
  },
  {
   "cell_type": "markdown",
   "id": "0a546c77-7eff-4e23-9ef7-38915faeb7c8",
   "metadata": {},
   "source": [
    "### Variables\n",
    "\n",
    "Variables allow us to save values and re-use them again later."
   ]
  },
  {
   "cell_type": "code",
   "execution_count": 7,
   "id": "9d09cbd8-67e3-46c0-8789-ae07fe5e375c",
   "metadata": {
    "tags": []
   },
   "outputs": [],
   "source": [
    "x = 2\n",
    "y = x + 3"
   ]
  },
  {
   "cell_type": "code",
   "execution_count": 27,
   "id": "16bcbcca-24ce-46ee-ba70-db9557bef285",
   "metadata": {
    "tags": []
   },
   "outputs": [
    {
     "data": {
      "text/plain": [
       "3"
      ]
     },
     "execution_count": 27,
     "metadata": {},
     "output_type": "execute_result"
    }
   ],
   "source": [
    "x"
   ]
  },
  {
   "cell_type": "code",
   "execution_count": 28,
   "id": "2fae7ef6-f98f-4c27-a686-6900a495cd46",
   "metadata": {
    "tags": []
   },
   "outputs": [
    {
     "data": {
      "text/plain": [
       "6"
      ]
     },
     "execution_count": 28,
     "metadata": {},
     "output_type": "execute_result"
    }
   ],
   "source": [
    "y"
   ]
  },
  {
   "cell_type": "code",
   "execution_count": 10,
   "id": "bf8bced8-7345-4183-94f7-ef7fdf341de9",
   "metadata": {
    "tags": []
   },
   "outputs": [],
   "source": [
    "x= 3"
   ]
  },
  {
   "cell_type": "code",
   "execution_count": 11,
   "id": "ca975b59-72f4-4f8a-8e2a-0081035425d1",
   "metadata": {
    "tags": []
   },
   "outputs": [
    {
     "data": {
      "text/plain": [
       "3"
      ]
     },
     "execution_count": 11,
     "metadata": {},
     "output_type": "execute_result"
    }
   ],
   "source": [
    "x"
   ]
  },
  {
   "cell_type": "code",
   "execution_count": 12,
   "id": "5dd687e8-eedb-4f90-aa05-4a3c6258e4e2",
   "metadata": {
    "tags": []
   },
   "outputs": [
    {
     "data": {
      "text/plain": [
       "5"
      ]
     },
     "execution_count": 12,
     "metadata": {},
     "output_type": "execute_result"
    }
   ],
   "source": [
    "y"
   ]
  },
  {
   "cell_type": "code",
   "execution_count": 13,
   "id": "f166af4e-62f6-4790-b3d1-5b8c29d2a566",
   "metadata": {
    "tags": []
   },
   "outputs": [],
   "source": [
    "y = x + 3"
   ]
  },
  {
   "cell_type": "code",
   "execution_count": 14,
   "id": "8a7942d7-9174-460c-aaeb-e2fc345db0d9",
   "metadata": {
    "tags": []
   },
   "outputs": [
    {
     "data": {
      "text/plain": [
       "6"
      ]
     },
     "execution_count": 14,
     "metadata": {},
     "output_type": "execute_result"
    }
   ],
   "source": [
    "y\n"
   ]
  },
  {
   "cell_type": "markdown",
   "id": "4ba32525-6f03-498f-95b5-2627836e788e",
   "metadata": {},
   "source": [
    "\n",
    "You can name variables _almost_ whatever you want. There are a few rules that must be followed, and there are a few rules that are just good habits.\n",
    "\n",
    "**Required Variable Naming Conventions**\n",
    "- Names can only consist of letters, underscores, and numbers.\n",
    "- Names can't begin with numbers.\n",
    "- You can't name a variable after a built-in Python keyword (eg `if`).\n",
    "\n",
    "**Variable Naming Good Practices**\n",
    "- Names should _**always**_ be descriptive (ie, don't name variables `x` and `df`) - even if they're long it makes code more readable. There are lots of features in different coding tools (like Jupyter Lab) that make it easy to enter variable names when typing code.\n",
    "- No capital letters - you will get confused.\n",
    "- Variables should not begin with an underscore (this means something special)\n",
    "- When using multiple words to name something, use something called `snake_case`. This means using lower case letters and separate words with a single underscores.\n",
    "- Technically, you _can_ name variables after built-in Python _functions_ (like `print`), but don't - it can seriously confuse things later.\n",
    "    - Rule of thumb: If a variable name turns green, don't use it!"
   ]
  },
  {
   "cell_type": "code",
   "execution_count": 32,
   "id": "4a00831a-83cc-457a-ac60-76d335500b14",
   "metadata": {
    "tags": []
   },
   "outputs": [],
   "source": [
    "initial_value = 3\n",
    "terminal_value = 5\n",
    "important_variable_for_some_function = 7"
   ]
  },
  {
   "cell_type": "code",
   "execution_count": 33,
   "id": "f638a491-166c-4b17-92ae-070da635da2a",
   "metadata": {
    "tags": []
   },
   "outputs": [
    {
     "data": {
      "text/plain": [
       "-2"
      ]
     },
     "execution_count": 33,
     "metadata": {},
     "output_type": "execute_result"
    }
   ],
   "source": [
    "initial_value - terminal_value"
   ]
  },
  {
   "cell_type": "code",
   "execution_count": 34,
   "id": "7c186b5c-2d5b-4262-9be0-2cb64b6760d3",
   "metadata": {
    "tags": []
   },
   "outputs": [
    {
     "data": {
      "text/plain": [
       "4"
      ]
     },
     "execution_count": 34,
     "metadata": {},
     "output_type": "execute_result"
    }
   ],
   "source": [
    "important_variable_for_some_function - initial_value"
   ]
  },
  {
   "cell_type": "markdown",
   "id": "5f0dcf06-5ab7-4979-b520-66ae799398cc",
   "metadata": {},
   "source": [
    "### Exercise:\n",
    "\n",
    "Recall the quadratic formula you may have learned for solving a polynomial equation with coefficients $a$, $b$, $c$:\n",
    "\n",
    "$$ x = \\frac{-b \\pm \\sqrt{b^2 - 4ac}}{2a} $$\n",
    "\n",
    "Turn this into code in the cells below.\n"
   ]
  },
  {
   "cell_type": "code",
   "execution_count": null,
   "id": "8d3e12e3-4df4-4e1e-9157-76d384d59b62",
   "metadata": {},
   "outputs": [],
   "source": []
  },
  {
   "cell_type": "code",
   "execution_count": null,
   "id": "730ebce3-fc1e-4544-a71b-85755c2d7c7a",
   "metadata": {},
   "outputs": [],
   "source": []
  },
  {
   "cell_type": "code",
   "execution_count": null,
   "id": "eabe63db-0366-48bc-a906-bad67994172e",
   "metadata": {},
   "outputs": [],
   "source": []
  },
  {
   "cell_type": "code",
   "execution_count": null,
   "id": "3e90761f-aadf-445d-909b-32da44104639",
   "metadata": {},
   "outputs": [],
   "source": []
  }
 ],
 "metadata": {
  "kernelspec": {
   "display_name": "Python 3 (ipykernel)",
   "language": "python",
   "name": "python3"
  },
  "language_info": {
   "codemirror_mode": {
    "name": "ipython",
    "version": 3
   },
   "file_extension": ".py",
   "mimetype": "text/x-python",
   "name": "python",
   "nbconvert_exporter": "python",
   "pygments_lexer": "ipython3",
   "version": "3.10.13"
  }
 },
 "nbformat": 4,
 "nbformat_minor": 5
}
