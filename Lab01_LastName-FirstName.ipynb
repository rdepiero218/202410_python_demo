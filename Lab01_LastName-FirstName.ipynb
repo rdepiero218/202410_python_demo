{
 "cells": [
  {
   "cell_type": "markdown",
   "id": "660c20b8-1f48-4459-adaf-77e91990407c",
   "metadata": {},
   "source": [
    "# Lab 1 Assignment\n",
    "\n",
    "Your graded assignment for this lab is to go through Worksheet 0 and find the solution to each problem using sympy. All problem types may not have been covered in the demo given in class. Try searching the documentation first to see if you can find how to do something (Google searches help in this as well). If you still can't find your answer, please contact me.\n",
    "\n",
    "**Instructions for Completion**\n",
    "\n",
    "* Enter your code in the coresponding labelled section for each problem in this notebook.\n",
    "* Save the notebook and rename with your last name and first name.\n",
    "* Upload the assignment to Moodle\n",
    "\n",
    "This assignment will be graded for completion only and is worth 40 points. This grade will fall under the Written Homework and Projects portion of your course grade.\n",
    "\n",
    "_Try typing in the problem in the markdown cell for each problem_ All inline math text goes inside `$ $` and anything you want centered on it's own line in `$$ $$`. Use the markdown cells in the class demo to help you out.\n",
    "\n",
    "### Import libraries\n"
   ]
  },
  {
   "cell_type": "code",
   "execution_count": 1,
   "id": "875c85d6-2dc9-4798-bc79-c6b1f863db9b",
   "metadata": {
    "tags": []
   },
   "outputs": [],
   "source": [
    "from sympy import *\n",
    "init_printing()  #this prints things in a 'pretty' way with usual math notation"
   ]
  },
  {
   "cell_type": "markdown",
   "id": "47186a84-fe60-49ad-9678-6d3ea30a0234",
   "metadata": {},
   "source": [
    "### Problem 1"
   ]
  },
  {
   "cell_type": "code",
   "execution_count": null,
   "id": "5f796a0a-b1c3-4f4e-895a-a54eb5145916",
   "metadata": {},
   "outputs": [],
   "source": []
  },
  {
   "cell_type": "code",
   "execution_count": null,
   "id": "b00ef071-ebeb-4fe5-b032-a89ca819e9ce",
   "metadata": {},
   "outputs": [],
   "source": []
  },
  {
   "cell_type": "markdown",
   "id": "ea9a3964-0658-4a23-9830-928cafe35562",
   "metadata": {},
   "source": [
    "### Problem 2"
   ]
  },
  {
   "cell_type": "code",
   "execution_count": null,
   "id": "c84692b0-752a-476c-a7ef-1baa6a424161",
   "metadata": {},
   "outputs": [],
   "source": []
  },
  {
   "cell_type": "code",
   "execution_count": null,
   "id": "34b9eeca-4069-480c-9c03-1040a3cb9a85",
   "metadata": {},
   "outputs": [],
   "source": []
  },
  {
   "cell_type": "markdown",
   "id": "0af22c76-02c2-4b3f-aed1-ff38ac4e62d3",
   "metadata": {},
   "source": [
    "### Problem 3"
   ]
  },
  {
   "cell_type": "code",
   "execution_count": null,
   "id": "eb8d5826-2b6e-4abf-9706-3a8863037801",
   "metadata": {},
   "outputs": [],
   "source": []
  },
  {
   "cell_type": "code",
   "execution_count": null,
   "id": "982d8b6f-b385-4917-8d89-92c02412bb6c",
   "metadata": {},
   "outputs": [],
   "source": []
  },
  {
   "cell_type": "markdown",
   "id": "50e1acb1-af3c-4067-80d9-bc70fd970370",
   "metadata": {},
   "source": [
    "### Problem 4"
   ]
  },
  {
   "cell_type": "code",
   "execution_count": null,
   "id": "558846bc-09a8-4ced-96b6-44dbf16bfaea",
   "metadata": {},
   "outputs": [],
   "source": []
  },
  {
   "cell_type": "code",
   "execution_count": null,
   "id": "6832c648-95c6-4403-a319-87e64985f551",
   "metadata": {},
   "outputs": [],
   "source": []
  },
  {
   "cell_type": "markdown",
   "id": "9c266158-38e4-4a85-9d87-ae2c9d73d86b",
   "metadata": {},
   "source": [
    "### Problem 5"
   ]
  },
  {
   "cell_type": "code",
   "execution_count": null,
   "id": "860341fa-0875-4c50-bf4a-211107b7d117",
   "metadata": {},
   "outputs": [],
   "source": []
  },
  {
   "cell_type": "code",
   "execution_count": null,
   "id": "6c1c8dfd-1cef-4844-b530-bee224702fdc",
   "metadata": {},
   "outputs": [],
   "source": []
  },
  {
   "cell_type": "markdown",
   "id": "552db6a9-2218-44f4-a05a-c9051f8dc3cd",
   "metadata": {},
   "source": [
    "### Problem 6"
   ]
  },
  {
   "cell_type": "code",
   "execution_count": null,
   "id": "a280aa23-5584-4bcf-b5d1-31c4ec5daf5f",
   "metadata": {},
   "outputs": [],
   "source": []
  },
  {
   "cell_type": "code",
   "execution_count": null,
   "id": "49293043-6be6-443b-bcb2-003633fdaa14",
   "metadata": {},
   "outputs": [],
   "source": []
  },
  {
   "cell_type": "markdown",
   "id": "9f0a24d4-84c9-4308-94fd-9c65235687d3",
   "metadata": {},
   "source": [
    "### Problem 7"
   ]
  },
  {
   "cell_type": "code",
   "execution_count": null,
   "id": "6e980600-8a09-4a2e-9586-1683940aca70",
   "metadata": {},
   "outputs": [],
   "source": []
  },
  {
   "cell_type": "code",
   "execution_count": null,
   "id": "8795fe47-493c-4c30-ac2c-6446438f140f",
   "metadata": {},
   "outputs": [],
   "source": []
  },
  {
   "cell_type": "markdown",
   "id": "0f6275e5-bf8c-44ef-870b-8423db68b459",
   "metadata": {},
   "source": [
    "### Problem 8"
   ]
  },
  {
   "cell_type": "code",
   "execution_count": null,
   "id": "054b6a66-e998-4f0c-b5a1-0ee08975f713",
   "metadata": {},
   "outputs": [],
   "source": []
  },
  {
   "cell_type": "code",
   "execution_count": null,
   "id": "d27b2aff-2d73-454d-a490-d0cf5b872520",
   "metadata": {},
   "outputs": [],
   "source": []
  },
  {
   "cell_type": "markdown",
   "id": "6f9018eb-1576-4bdd-bfbc-427d0d6bba84",
   "metadata": {},
   "source": [
    "### Problem 9"
   ]
  },
  {
   "cell_type": "code",
   "execution_count": null,
   "id": "512e4f6d-88f1-4b27-80e0-a95418b319a3",
   "metadata": {},
   "outputs": [],
   "source": []
  },
  {
   "cell_type": "code",
   "execution_count": null,
   "id": "33dcaa58-df09-4e61-993d-4c3e20df425a",
   "metadata": {},
   "outputs": [],
   "source": []
  },
  {
   "cell_type": "markdown",
   "id": "94ce34c5-cff2-48b6-b7c3-5bb7107457ff",
   "metadata": {},
   "source": [
    "### Problem 10"
   ]
  },
  {
   "cell_type": "code",
   "execution_count": null,
   "id": "302a8f12-798f-43a5-9800-fdff73112b64",
   "metadata": {},
   "outputs": [],
   "source": []
  },
  {
   "cell_type": "code",
   "execution_count": null,
   "id": "39be204a-939c-4540-8d34-0d43b222fb01",
   "metadata": {},
   "outputs": [],
   "source": []
  },
  {
   "cell_type": "markdown",
   "id": "822613f5-bf9c-4df8-a103-cf4f8156f0e9",
   "metadata": {},
   "source": [
    "### Problem 11"
   ]
  },
  {
   "cell_type": "code",
   "execution_count": null,
   "id": "1da05a3b-aa1a-45cc-bbf9-8997f4c78afe",
   "metadata": {},
   "outputs": [],
   "source": []
  },
  {
   "cell_type": "code",
   "execution_count": null,
   "id": "181b239b-31ab-4264-bf7c-b7bbc8903c5f",
   "metadata": {},
   "outputs": [],
   "source": []
  },
  {
   "cell_type": "markdown",
   "id": "bba0ccc8-2018-4e29-baaa-d41c4b4ff668",
   "metadata": {},
   "source": [
    "### Problem 12"
   ]
  },
  {
   "cell_type": "code",
   "execution_count": null,
   "id": "7455ac98-9a3f-4975-a1f7-962b1e7c6f4b",
   "metadata": {},
   "outputs": [],
   "source": []
  },
  {
   "cell_type": "code",
   "execution_count": null,
   "id": "8662ed53-c94c-4c6e-abf8-aa3f9d32a0ad",
   "metadata": {},
   "outputs": [],
   "source": []
  },
  {
   "cell_type": "markdown",
   "id": "f7f6f65d-4101-4f43-acec-b39a54c53463",
   "metadata": {},
   "source": [
    "### Problem 13"
   ]
  },
  {
   "cell_type": "code",
   "execution_count": null,
   "id": "fe48c6f3-2d95-4c8b-8619-ed075887676a",
   "metadata": {},
   "outputs": [],
   "source": []
  },
  {
   "cell_type": "code",
   "execution_count": null,
   "id": "a166bf4e-7fd0-412d-9759-16e0eca78e4e",
   "metadata": {},
   "outputs": [],
   "source": []
  },
  {
   "cell_type": "markdown",
   "id": "3f474113-ac2a-4432-ae33-0b3da8f50055",
   "metadata": {},
   "source": [
    "### Problem 14"
   ]
  },
  {
   "cell_type": "code",
   "execution_count": null,
   "id": "c96cdaae-f7b7-454a-bb3f-6948b9332d29",
   "metadata": {},
   "outputs": [],
   "source": []
  },
  {
   "cell_type": "code",
   "execution_count": null,
   "id": "404de034-f583-42c3-a658-ecb9619a6552",
   "metadata": {},
   "outputs": [],
   "source": []
  }
 ],
 "metadata": {
  "kernelspec": {
   "display_name": "Python 3 (ipykernel)",
   "language": "python",
   "name": "python3"
  },
  "language_info": {
   "codemirror_mode": {
    "name": "ipython",
    "version": 3
   },
   "file_extension": ".py",
   "mimetype": "text/x-python",
   "name": "python",
   "nbconvert_exporter": "python",
   "pygments_lexer": "ipython3",
   "version": "3.10.13"
  }
 },
 "nbformat": 4,
 "nbformat_minor": 5
}
