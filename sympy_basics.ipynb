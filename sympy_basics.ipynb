{
 "cells": [
  {
   "cell_type": "markdown",
   "id": "f2d194c7-54c5-4f45-bafa-962deaaec73f",
   "metadata": {},
   "source": [
    "# Using Sympy\n",
    "\n",
    "The python library 'sympy' allows symbolic manipulation of expressions. It is similar to how Mathematica works (the software and language behind Wolfram|Alpha). Mathematica is an amazig piece of software, but unfortunately, it's also very expensive. Python, is free.\n",
    "\n",
    "### Import Libraries\n",
    "\n",
    "We first import any libraries we may need"
   ]
  },
  {
   "cell_type": "code",
   "execution_count": 7,
   "id": "39106673-b629-4fa8-ba76-1eebec3fd9f1",
   "metadata": {
    "tags": []
   },
   "outputs": [],
   "source": [
    "from sympy import *\n",
    "init_printing()  #this prints things in a 'pretty' way with usual math notation"
   ]
  },
  {
   "cell_type": "markdown",
   "id": "4d5986fe-d7e4-437c-b4df-aca7c28c60c2",
   "metadata": {},
   "source": [
    "If you get an error you need to install sympy. Use the following in the terminal (or install via Anaconda Navigator)\n",
    "\n",
    "```\n",
    "conda install -c anaconda sympy\n",
    "```\n",
    "and then re-run the cell above."
   ]
  },
  {
   "cell_type": "markdown",
   "id": "48fb33c8-4240-47da-a3aa-ad098eb97f7e",
   "metadata": {},
   "source": [
    "### Declaring symbols\n",
    "\n",
    "Next we need to declare what our symbolic variables will be. So far in this class we've used $x$, $y$, $z$, and $t$ pretty regularly so we'll start off with those."
   ]
  },
  {
   "cell_type": "code",
   "execution_count": 11,
   "id": "b2416d11-1f43-4e83-b066-e2160eb38082",
   "metadata": {
    "tags": []
   },
   "outputs": [],
   "source": [
    "x, y, z, t = symbols('x y z t', positive = True, real = True)"
   ]
  },
  {
   "cell_type": "markdown",
   "id": "8271e81c-c11b-4e84-a25b-dcf449153153",
   "metadata": {},
   "source": [
    "We can use sympy as a calculator to get exact values of function evaluations"
   ]
  },
  {
   "cell_type": "code",
   "execution_count": 14,
   "id": "f2271592-598e-48d1-8682-de923bb4e5a2",
   "metadata": {
    "tags": []
   },
   "outputs": [
    {
     "data": {
      "image/png": "[encoded data removed]",
      "text/latex": [
       "$\\displaystyle \\frac{\\sqrt{3}}{2}$"
      ],
      "text/plain": [
       "√3\n",
       "──\n",
       "2 "
      ]
     },
     "execution_count": 14,
     "metadata": {},
     "output_type": "execute_result"
    }
   ],
   "source": [
    "cos(pi/6)"
   ]
  },
  {
   "cell_type": "code",
   "execution_count": 12,
   "id": "8b5d92c0-2a17-4185-bc2c-1a34365fa50e",
   "metadata": {
    "tags": []
   },
   "outputs": [
    {
     "data": {
      "image/png": "[encoded data removed]",
      "text/latex": [
       "$\\displaystyle \\frac{1}{2}$"
      ],
      "text/plain": [
       "1/2"
      ]
     },
     "execution_count": 12,
     "metadata": {},
     "output_type": "execute_result"
    }
   ],
   "source": [
    "sin(pi/6)"
   ]
  },
  {
   "cell_type": "markdown",
   "id": "e7f27173-f424-4046-8673-957bfba17b21",
   "metadata": {},
   "source": [
    "## Solving Equations\n",
    "\n",
    "There are a few different cases for solving systems.\n",
    "\n",
    "### Solving linear systems of equations\n",
    "\n",
    "If we want to solve the linear system of equations\n",
    "$$\n",
    "\\begin{align*}\n",
    "x+y &= 5 \\\\\n",
    "2x-y &= 1\n",
    "\\end{align*}\n",
    "$$\n",
    "\n",
    "We first need to get them in the following form\n",
    "$$\n",
    "\\begin{align*}\n",
    "x+y -5 &= 0 \\\\\n",
    "2x-y -1 &= 0\n",
    "\\end{align*}\n",
    "$$"
   ]
  },
  {
   "cell_type": "code",
   "execution_count": 10,
   "id": "1cb01968-9994-48f4-9376-e6c15676763b",
   "metadata": {
    "tags": []
   },
   "outputs": [
    {
     "data": {
      "image/png": "[encoded data removed]",
      "text/latex": [
       "$\\displaystyle \\left\\{\\left( 2, \\  3\\right)\\right\\}$"
      ],
      "text/plain": [
       "{(2, 3)}"
      ]
     },
     "execution_count": 10,
     "metadata": {},
     "output_type": "execute_result"
    }
   ],
   "source": [
    "linsolve([x+y - 5, 2*x-y-1], (x, y))"
   ]
  },
  {
   "cell_type": "markdown",
   "id": "c7a6ce7b-ba57-4e12-b22c-27224f3109fc",
   "metadata": {},
   "source": [
    "This is a different function than if you wanted to solve a single equation of one variable. For example to solve\n",
    "$$ x^2 - x = 0 $$\n",
    "We would factor to get\n",
    "$$ x(x - 1) = 0$$\n",
    "and then solve for each case. To do this in sympy we do the following."
   ]
  },
  {
   "cell_type": "code",
   "execution_count": 15,
   "id": "4000041c-9e78-4665-a708-1bf1f3e52a31",
   "metadata": {
    "tags": []
   },
   "outputs": [
    {
     "data": {
      "image/png": "[encoded data removed]",
      "text/latex": [
       "$\\displaystyle \\left\\{0, 1\\right\\}$"
      ],
      "text/plain": [
       "{0, 1}"
      ]
     },
     "execution_count": 15,
     "metadata": {},
     "output_type": "execute_result"
    }
   ],
   "source": [
    "solveset(x**2 - x, x)"
   ]
  },
  {
   "cell_type": "code",
   "execution_count": null,
   "id": "a92d181b-0e59-4c4f-8415-7e6ac347aa2d",
   "metadata": {},
   "outputs": [],
   "source": []
  },
  {
   "cell_type": "markdown",
   "id": "c28ec10b-fab1-42b2-ae6a-b406bd931f5e",
   "metadata": {},
   "source": [
    "## Calculus\n",
    "\n"
   ]
  },
  {
   "cell_type": "markdown",
   "id": "180e262c-409c-4cbb-b912-6611f6cbc7dd",
   "metadata": {},
   "source": [
    "### Limits\n",
    "\n",
    "Find the limit of \n",
    "$$ \\lim_{x\\to -3} (4x + 2)$$"
   ]
  },
  {
   "cell_type": "code",
   "execution_count": null,
   "id": "e95b84df-bbdc-46a4-88db-dacd5d684be8",
   "metadata": {},
   "outputs": [],
   "source": []
  },
  {
   "cell_type": "code",
   "execution_count": null,
   "id": "66eb05de-376d-4e5c-a0bb-d575fa677a27",
   "metadata": {},
   "outputs": [],
   "source": []
  },
  {
   "cell_type": "markdown",
   "id": "7c13a48e-4448-43be-8e1c-f4d9a65e0e7a",
   "metadata": {},
   "source": [
    "### Differentiation\n",
    "\n",
    "Find the derivative of\n",
    "$$ f(x) = x^2 + x$$"
   ]
  },
  {
   "cell_type": "code",
   "execution_count": null,
   "id": "eaef05e2-87a9-42c7-b6f5-4c3b9adf9ab5",
   "metadata": {},
   "outputs": [],
   "source": []
  },
  {
   "cell_type": "code",
   "execution_count": null,
   "id": "56b1a270-dd12-4ac8-88c4-3aa46870c333",
   "metadata": {},
   "outputs": [],
   "source": []
  },
  {
   "cell_type": "markdown",
   "id": "bc15d47d-abe6-465e-a9ce-e964918921d8",
   "metadata": {},
   "source": [
    "### Integration\n",
    "\n",
    "Integrate\n",
    "\n",
    "$$ \\int_0^2 x^2\\, dx $$"
   ]
  },
  {
   "cell_type": "code",
   "execution_count": null,
   "id": "f09fba38-d841-4a37-ba17-47ddae6b100d",
   "metadata": {},
   "outputs": [],
   "source": []
  },
  {
   "cell_type": "code",
   "execution_count": null,
   "id": "a82f1335-5f06-481a-bd44-147049ba78f7",
   "metadata": {},
   "outputs": [],
   "source": []
  },
  {
   "cell_type": "markdown",
   "id": "e4e49d5c-59de-4ed5-89e8-d732490182d7",
   "metadata": {},
   "source": [
    "### Differential Equations"
   ]
  },
  {
   "cell_type": "code",
   "execution_count": null,
   "id": "025ce234-e69e-42a0-8b8e-bc9876beba13",
   "metadata": {},
   "outputs": [],
   "source": []
  },
  {
   "cell_type": "code",
   "execution_count": null,
   "id": "e15074dd-2004-4a64-8f81-ceaa6393df27",
   "metadata": {},
   "outputs": [],
   "source": []
  },
  {
   "cell_type": "markdown",
   "id": "d92d3a23-aba3-4968-b027-f8aa7f72b5cf",
   "metadata": {},
   "source": [
    "## Simplifying Expressions"
   ]
  },
  {
   "cell_type": "code",
   "execution_count": null,
   "id": "2431f769-0955-43dc-9830-bfbe911072c7",
   "metadata": {},
   "outputs": [],
   "source": []
  }
 ],
 "metadata": {
  "kernelspec": {
   "display_name": "Python 3 (ipykernel)",
   "language": "python",
   "name": "python3"
  },
  "language_info": {
   "codemirror_mode": {
    "name": "ipython",
    "version": 3
   },
   "file_extension": ".py",
   "mimetype": "text/x-python",
   "name": "python",
   "nbconvert_exporter": "python",
   "pygments_lexer": "ipython3",
   "version": "3.10.13"
  }
 },
 "nbformat": 4,
 "nbformat_minor": 5
}
